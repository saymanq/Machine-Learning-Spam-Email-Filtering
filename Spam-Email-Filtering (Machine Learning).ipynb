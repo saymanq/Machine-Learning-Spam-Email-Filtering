{
 "cells": [
  {
   "cell_type": "markdown",
   "id": "b435560a",
   "metadata": {},
   "source": [
    "# Machine Learning Project\n",
    "\n",
    "## Spam Emails Filtering using Scikit-Learn and RandomForestClassifier"
   ]
  },
  {
   "cell_type": "markdown",
   "id": "67a3c8fe",
   "metadata": {},
   "source": [
    "### Step 1 - Import Required Modules"
   ]
  },
  {
   "cell_type": "code",
   "execution_count": null,
   "id": "92626118",
   "metadata": {},
   "outputs": [],
   "source": [
    "# String Module\n",
    "import string\n",
    "\n",
    "# Numpy and Pandas Modules\n",
    "import numpy as np\n",
    "import pandas as pd\n",
    "\n",
    "# Natural Language Toolkit Library\n",
    "import nltk\n",
    "from nltk.corpus import stopwords\n",
    "from nltk.stem.porter import PorterStemmer\n",
    "\n",
    "# Scikit-Learn Library\n",
    "from sklearn.feature_extraction.text import CountVectorizer\n",
    "from sklearn.model_selection import train_test_split\n",
    "from sklearn.ensemble import RandomForestClassifier"
   ]
  },
  {
   "cell_type": "markdown",
   "id": "2bef0a98",
   "metadata": {},
   "source": [
    "### Step 2 - Download Stopwords from NLTK"
   ]
  },
  {
   "cell_type": "code",
   "execution_count": null,
   "id": "74b67e44",
   "metadata": {},
   "outputs": [],
   "source": [
    "nltk.download('stopwords')"
   ]
  },
  {
   "cell_type": "markdown",
   "id": "3607a2da",
   "metadata": {},
   "source": [
    "### Step 3 - Load and Clean Data for Usage"
   ]
  },
  {
   "cell_type": "code",
   "execution_count": null,
   "id": "722df717",
   "metadata": {},
   "outputs": [],
   "source": [
    "df = pd.read_csv('spam_ham_dataset.csv')\n",
    "df['text'] = df['text'].apply(lambda x: x.replace('\\r\\n', ' '))\n",
    "df['text'] = df['text'].apply(lambda x: x.replace('\\r\\n', ' '))"
   ]
  },
  {
   "cell_type": "markdown",
   "id": "e9b226ed",
   "metadata": {},
   "source": [
    "### Step 4 - Preprocess the Data to Make it Suitable for Training"
   ]
  },
  {
   "cell_type": "code",
   "execution_count": null,
   "id": "28ac4347",
   "metadata": {},
   "outputs": [],
   "source": [
    "stemmer = PorterStemmer()\n",
    "corpus = []\n",
    "\n",
    "stopwords_set = set(stopwords.words('english'))\n",
    "\n",
    "for i in range(len(df)):\n",
    "    text = df['text'].iloc[i].lower()\n",
    "    text = text.translate(str.maketrans('', '', string.punctuation)).split()\n",
    "    text = [stemmer.stem(word) for word in text if word not in stopwords_set]\n",
    "    text = ' '.join(text)\n",
    "    corpus.append(text)"
   ]
  },
  {
   "cell_type": "markdown",
   "id": "880334fa",
   "metadata": {},
   "source": [
    "### Step 5 - Convert Text into Vectors and Split Data into Training and Testing Sets"
   ]
  },
  {
   "cell_type": "code",
   "execution_count": null,
   "id": "307b09c7",
   "metadata": {},
   "outputs": [],
   "source": [
    "vectorizer = CountVectorizer()\n",
    "\n",
    "X = vectorizer.fit_transform(corpus).toarray()\n",
    "y = df.label_num\n",
    "\n",
    "X_train, X_test, y_train, y_test = train_test_split(X, y, test_size=0.2)"
   ]
  },
  {
   "cell_type": "markdown",
   "id": "76b252a7",
   "metadata": {},
   "source": [
    "### Step 6 - Train the Machine Learning Model (RandomForestClassifier)"
   ]
  },
  {
   "cell_type": "code",
   "execution_count": null,
   "id": "ffc5b6ac",
   "metadata": {},
   "outputs": [],
   "source": [
    "classifier = RandomForestClassifier(n_jobs = -1)\n",
    "\n",
    "classifier.fit(X_train, y_train)"
   ]
  },
  {
   "cell_type": "markdown",
   "id": "95da0039",
   "metadata": {},
   "source": [
    "### Step 7 - Check the Performance of the Model"
   ]
  },
  {
   "cell_type": "code",
   "execution_count": null,
   "id": "0586494d",
   "metadata": {},
   "outputs": [],
   "source": [
    "classifier.score(X_test, y_test)"
   ]
  }
 ],
 "metadata": {
  "kernelspec": {
   "display_name": "Python 3 (ipykernel)",
   "language": "python",
   "name": "python3"
  },
  "language_info": {
   "codemirror_mode": {
    "name": "ipython",
    "version": 3
   },
   "file_extension": ".py",
   "mimetype": "text/x-python",
   "name": "python",
   "nbconvert_exporter": "python",
   "pygments_lexer": "ipython3",
   "version": "3.11.5"
  }
 },
 "nbformat": 4,
 "nbformat_minor": 5
}
